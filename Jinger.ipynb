{
 "metadata": {
  "language_info": {
   "codemirror_mode": {
    "name": "ipython",
    "version": 3
   },
   "file_extension": ".py",
   "mimetype": "text/x-python",
   "name": "python",
   "nbconvert_exporter": "python",
   "pygments_lexer": "ipython3",
   "version": "3.8.3-final"
  },
  "orig_nbformat": 2,
  "kernelspec": {
   "name": "python3",
   "display_name": "Python 3",
   "language": "python"
  }
 },
 "nbformat": 4,
 "nbformat_minor": 2,
 "cells": [
  {
   "source": [
    "## Render Templated Output\n",
    "\n",
    "1. Render a blob of text.\n",
    "2. Render templated text.\n",
    "3. Render templated text from dictionary contents.\n",
    "4. Render templated text iterating over a list of items.\n",
    "5. Render HTML iterating over a list of dictionaries.\n",
    "6. Render HTML table in notebook iterating over a list of dictionaries.\n",
    "7. Render an HTML table with clickable images and their tags iterating over an in-memory DB."
   ],
   "cell_type": "markdown",
   "metadata": {}
  },
  {
   "cell_type": "code",
   "execution_count": 2,
   "metadata": {},
   "outputs": [
    {
     "output_type": "stream",
     "name": "stdout",
     "text": [
      "/Users/sanjaybhatikar/Desktop/Scripts\n"
     ]
    }
   ],
   "source": [
    "!pwd"
   ]
  },
  {
   "cell_type": "code",
   "execution_count": 3,
   "metadata": {},
   "outputs": [],
   "source": [
    "from jinja2 import Environment, FileSystemLoader"
   ]
  },
  {
   "cell_type": "code",
   "execution_count": 4,
   "metadata": {},
   "outputs": [],
   "source": [
    "file_loader = FileSystemLoader(\"templates\")\n",
    "env = Environment(loader=file_loader)"
   ]
  },
  {
   "source": [
    "### 1. Render a blob of text.\n",
    "\n",
    "Stash the text in a template and render."
   ],
   "cell_type": "markdown",
   "metadata": {}
  },
  {
   "cell_type": "code",
   "execution_count": 5,
   "metadata": {},
   "outputs": [
    {
     "output_type": "stream",
     "name": "stdout",
     "text": [
      "Har Har Mahadev!\n"
     ]
    }
   ],
   "source": [
    "template = env.get_template(\"HarHarMahadev\")\n",
    "output = template.render()\n",
    "print(output)"
   ]
  },
  {
   "source": [
    "### 2. Render templated text.\n",
    "\n",
    "Use the double-moustache operator in the jinja2 template as a placeholder and pass the text as a parameter to the renderer."
   ],
   "cell_type": "markdown",
   "metadata": {}
  },
  {
   "cell_type": "code",
   "execution_count": 6,
   "metadata": {},
   "outputs": [
    {
     "output_type": "stream",
     "name": "stdout",
     "text": [
      "Shiva, Shiva, Shiva, Shambo\n"
     ]
    }
   ],
   "source": [
    "template = env.get_template(\"Shambo\")\n",
    "output = template.render(deva=\"Shambo\")\n",
    "print(output)"
   ]
  },
  {
   "source": [
    "### 3. Render templated text from dictionary contents.\n",
    "\n",
    "Pass a dictionary as an argument to the render and use matching keys in the template."
   ],
   "cell_type": "markdown",
   "metadata": {}
  },
  {
   "cell_type": "code",
   "execution_count": 7,
   "metadata": {},
   "outputs": [],
   "source": [
    "klesha = {\"one\": \"avidya\", \"two\": \"asmita\", \"three\": \"raga\", \"four\": \"dvesa\", \"five\": \"abhinidvesa\"}"
   ]
  },
  {
   "cell_type": "code",
   "execution_count": 8,
   "metadata": {},
   "outputs": [
    {
     "output_type": "stream",
     "name": "stdout",
     "text": [
      "Patanjali describes the five kleshas on the periphery of our manifest self \nthat obscure the divinity at the core. These are avidya, asmita,\nraga, dvesa and abhinidvesa.\n"
     ]
    }
   ],
   "source": [
    "template = env.get_template(\"Kleshas\")\n",
    "output = template.render(klesha = klesha)\n",
    "print(output)"
   ]
  },
  {
   "source": [
    "### 4. Render templated text iterating over a list of items.\n",
    "\n",
    "Iterate over a list in the template using the looping directive."
   ],
   "cell_type": "markdown",
   "metadata": {}
  },
  {
   "cell_type": "code",
   "execution_count": 9,
   "metadata": {},
   "outputs": [
    {
     "output_type": "execute_result",
     "data": {
      "text/plain": [
       "9"
      ]
     },
     "metadata": {},
     "execution_count": 9
    }
   ],
   "source": [
    "obstacles = [\"vyadhi\", \"styana\", \"samshaya\", \"pramada\", \"alasya\", \"abhirati\", \"bhrantidarshana\", \"alabdhabhumikatva\", \"anavasthitatva\"]\n",
    "len(obstacles)"
   ]
  },
  {
   "cell_type": "code",
   "execution_count": 10,
   "metadata": {},
   "outputs": [
    {
     "output_type": "stream",
     "name": "stdout",
     "text": [
      "\n    vyadhi\n\n    styana\n\n    samshaya\n\n    pramada\n\n    alasya\n\n    abhirati\n\n    bhrantidarshana\n\n    alabdhabhumikatva\n\n    anavasthitatva\n\n"
     ]
    }
   ],
   "source": [
    "template = env.get_template(\"Obstacles\")\n",
    "output = template.render(obstacles=obstacles)\n",
    "print(output)"
   ]
  },
  {
   "source": [
    "### 5. Render HTML iterating over a list of dictionaries.\n",
    "\n",
    "Iterate over a list of dictionaries, combining the looping directive with dictionary keys for rendering spreadsheet-style information in a tabular format. "
   ],
   "cell_type": "markdown",
   "metadata": {}
  },
  {
   "cell_type": "code",
   "execution_count": 11,
   "metadata": {},
   "outputs": [],
   "source": [
    "Trinity = [{\"God\": \"Brahma\", \"Consort\": \"Saraswait\"}, {\"God\": \"Vishnu\", \"Consort\": \"Laxmi\"}, {\"God\": \"Shiva\", \"Consort\":\"Durga\"}]"
   ]
  },
  {
   "cell_type": "code",
   "execution_count": 12,
   "metadata": {},
   "outputs": [
    {
     "output_type": "stream",
     "name": "stdout",
     "text": [
      "<table>\n    <tr>\n        <th>Deva</th>\n        <th>Devi</th>\n    </tr>\n\n    <tr>\n        <td>Brahma</td>\n        <td>Saraswait</td>\n    </tr>\n\n    <tr>\n        <td>Vishnu</td>\n        <td>Laxmi</td>\n    </tr>\n\n    <tr>\n        <td>Shiva</td>\n        <td>Durga</td>\n    </tr>\n\n</table>\n"
     ]
    }
   ],
   "source": [
    "template = env.get_template(\"Trideva\")\n",
    "output = template.render(Trinity=Trinity)\n",
    "print(output)"
   ]
  },
  {
   "source": [
    "### 6. Render HTML table in notebook iterating over a list of dictionaries.\n",
    "\n",
    "Render HTML in the page, building on the steps so far."
   ],
   "cell_type": "markdown",
   "metadata": {}
  },
  {
   "cell_type": "code",
   "execution_count": 26,
   "metadata": {},
   "outputs": [
    {
     "output_type": "display_data",
     "data": {
      "text/plain": "<IPython.core.display.HTML object>",
      "text/html": "<!DOCTYPE html>\n<html>\n    <head>\n        <title>Devaloka</title>\n    </head>\n<body>\n    <h1>Trinity</h1>\n    <p>Behold the devas.</p>\n    <table>\n    <tr>\n        <th>Deva</th>\n        <th>Devi</th>\n    </tr>\n\n    <tr>\n        <td>Brahma</td>\n        <td>Saraswait</td>\n    </tr>\n\n    <tr>\n        <td>Vishnu</td>\n        <td>Laxmi</td>\n    </tr>\n\n    <tr>\n        <td>Shiva</td>\n        <td>Durga</td>\n    </tr>\n\n</table>\n</body>\n</html>"
     },
     "metadata": {}
    }
   ],
   "source": [
    "template = env.get_template(\"devaloka.html\")\n",
    "output_html = template.render(Trinity=Trinity)\n",
    "from IPython.core.display import display, HTML\n",
    "display(HTML(output_html))"
   ]
  },
  {
   "source": [
    "### 7. Render an HTML table with clickable images and their tags iterating over an in-memory DB.\n",
    "\n",
    "Put it all together for the FastAPI app."
   ],
   "cell_type": "markdown",
   "metadata": {}
  },
  {
   "cell_type": "code",
   "execution_count": 21,
   "metadata": {},
   "outputs": [],
   "source": [
    "sucita_db = [{\n",
    "    'id': 1,\n",
    "    'image': 'https://i0.wp.com/hindupad.com/wp-content/uploads/2011/02/lord-mangesh-in-priol-near-panda-in-goa2.jpg',\n",
    "    'document': None,\n",
    "    'tags': 'manguesh,goa,shiva,bhakti'\n",
    "}, {\n",
    "    'id': 2,\n",
    "    'image': 'https://srajahiyer.files.wordpress.com/2016/05/img_20160505_171720.jpg',\n",
    "    'document': 'https://srajahiyer.files.wordpress.com/2016/05/img_20160505_171720.jpg',\n",
    "    'tags': 'kukkesubrahmanya,karnataka'\n",
    "}, {\n",
    "    'id': 3,\n",
    "    'image': 'http://www.travelpeopleindia.in/wp-content/uploads/2019/01/Temples-in-Goa-0_b9swzb.jpg',\n",
    "    'document': None,\n",
    "    'tags': 'mahadev,temple,goa,shiva'\n",
    "}]"
   ]
  },
  {
   "cell_type": "code",
   "execution_count": 25,
   "metadata": {},
   "outputs": [
    {
     "output_type": "display_data",
     "data": {
      "text/plain": "<IPython.core.display.HTML object>",
      "text/html": "<!DOCTYPE html>\n<html>\n    <head>\n        <title>Succana Patra</title>\n    </head>\n<body>\n    <style>\n        img {\n            width: 250px;\n        }\n    </style>\n    <h1>Patra</h1>\n    <p>Found the following 3 matches.</p>\n    <table>\n    <tr>\n        <th>Image</th>\n        <th>Tags</th>\n    </tr>\n\n    <tr>\n        <td>\n            \n                <img src=\"https://i0.wp.com/hindupad.com/wp-content/uploads/2011/02/lord-mangesh-in-priol-near-panda-in-goa2.jpg\" />\n            \n        </td>\n        <td>manguesh,goa,shiva,bhakti</td>\n    </tr>\n\n    <tr>\n        <td>\n            \n                <a href=\"https://srajahiyer.files.wordpress.com/2016/05/img_20160505_171720.jpg\">\n                    <img src=\"https://srajahiyer.files.wordpress.com/2016/05/img_20160505_171720.jpg\" />\n                </a> \n            \n        </td>\n        <td>kukkesubrahmanya,karnataka</td>\n    </tr>\n\n    <tr>\n        <td>\n            \n                <img src=\"http://www.travelpeopleindia.in/wp-content/uploads/2019/01/Temples-in-Goa-0_b9swzb.jpg\" />\n            \n        </td>\n        <td>mahadev,temple,goa,shiva</td>\n    </tr>\n\n</table>\n</body>\n</html>"
     },
     "metadata": {}
    }
   ],
   "source": [
    "template = env.get_template(\"Succanapatra.html\")\n",
    "output_html = template.render(records=sucita_db)\n",
    "display(HTML(output_html))"
   ]
  },
  {
   "cell_type": "code",
   "execution_count": null,
   "metadata": {},
   "outputs": [],
   "source": []
  }
 ]
}